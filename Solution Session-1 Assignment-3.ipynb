{
 "cells": [
  {
   "cell_type": "markdown",
   "metadata": {},
   "source": [
    "# Session 1 Assignment3  on reverse string "
   ]
  },
  {
   "cell_type": "markdown",
   "metadata": {},
   "source": [
    "#As i understood question in three different ways.. so, all possibilities presented..Consider which is appropriate."
   ]
  },
  {
   "cell_type": "code",
   "execution_count": 13,
   "metadata": {},
   "outputs": [
    {
     "name": "stdout",
     "output_type": "stream",
     "text": [
      "enter first name Subbareddy\n",
      "enter last nameDulam\n"
     ]
    },
    {
     "data": {
      "text/plain": [
       "'maluD ydderabbuS'"
      ]
     },
     "execution_count": 13,
     "metadata": {},
     "output_type": "execute_result"
    }
   ],
   "source": [
    "firstname = input(\"enter first name \")\n",
    "lastname = input(\"enter last name\")\n",
    "fullname= firstname+ \" \" + lastname\n",
    "fullname\n",
    "fullname[::-1]"
   ]
  },
  {
   "cell_type": "code",
   "execution_count": 14,
   "metadata": {},
   "outputs": [
    {
     "name": "stdout",
     "output_type": "stream",
     "text": [
      "enter first name Subbareddy\n",
      "enter last nameDulam\n"
     ]
    },
    {
     "data": {
      "text/plain": [
       "'ydderabbuS maluD'"
      ]
     },
     "execution_count": 14,
     "metadata": {},
     "output_type": "execute_result"
    }
   ],
   "source": [
    "firstname = input(\"enter first name \")\n",
    "lastname = input(\"enter last name\")\n",
    "firstname[::-1]+ \" \" + lastname[::-1]"
   ]
  },
  {
   "cell_type": "code",
   "execution_count": 1,
   "metadata": {},
   "outputs": [
    {
     "name": "stdout",
     "output_type": "stream",
     "text": [
      "enter first name Viswanath\n",
      "enter last nameKanamarlapudi\n"
     ]
    },
    {
     "data": {
      "text/plain": [
       "'Kanamarlapudi Viswanath'"
      ]
     },
     "execution_count": 1,
     "metadata": {},
     "output_type": "execute_result"
    }
   ],
   "source": [
    "firstname = input(\"enter first name \")\n",
    "lastname = input(\"enter last name\")\n",
    "fullname= lastname+ \" \" + firstname\n",
    "fullname"
   ]
  },
  {
   "cell_type": "markdown",
   "metadata": {},
   "source": [
    "# Session 1 Assiggnment 4 on volume of Sphere"
   ]
  },
  {
   "cell_type": "code",
   "execution_count": 28,
   "metadata": {},
   "outputs": [
    {
     "name": "stdout",
     "output_type": "stream",
     "text": [
      "Please Enter the diameter of a Sphere: 12\n",
      "\n",
      " The Volume of a Sphere = 904.32\n"
     ]
    }
   ],
   "source": [
    " # Python Program to find Volume of Sphere\n",
    " \n",
    "PI = 3.14\n",
    "diameter = float(input('Please Enter the diameter of a Sphere: '))\n",
    "radius= diameter/2\n",
    "Volume = (4 / 3) * 3.14 * radius**3\n",
    " \n",
    "print(\"\\n The Volume of a Sphere = %.2f\" %Volume)"
   ]
  },
  {
   "cell_type": "code",
   "execution_count": 29,
   "metadata": {},
   "outputs": [
    {
     "data": {
      "text/plain": [
       "904.3199999999999"
      ]
     },
     "execution_count": 29,
     "metadata": {},
     "output_type": "execute_result"
    }
   ],
   "source": [
    "Volume"
   ]
  },
  {
   "cell_type": "code",
   "execution_count": null,
   "metadata": {},
   "outputs": [],
   "source": []
  }
 ],
 "metadata": {
  "kernelspec": {
   "display_name": "Python 3",
   "language": "python",
   "name": "python3"
  },
  "language_info": {
   "codemirror_mode": {
    "name": "ipython",
    "version": 3
   },
   "file_extension": ".py",
   "mimetype": "text/x-python",
   "name": "python",
   "nbconvert_exporter": "python",
   "pygments_lexer": "ipython3",
   "version": "3.6.4"
  }
 },
 "nbformat": 4,
 "nbformat_minor": 2
}
